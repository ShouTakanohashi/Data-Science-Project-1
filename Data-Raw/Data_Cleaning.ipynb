{
 "cells": [
  {
   "cell_type": "markdown",
   "id": "c83da9a1",
   "metadata": {},
   "source": [
    "# Data Cleaning"
   ]
  },
  {
   "cell_type": "code",
   "execution_count": 1,
   "id": "34c441f8",
   "metadata": {},
   "outputs": [
    {
     "name": "stdout",
     "output_type": "stream",
     "text": [
      "<bound method NDFrame.head of         ID                                               Name  \\\n",
      "0     5302       SD Vista - Solar Water Pump Project in Kenya   \n",
      "1     5264                 Yunfu LFG Power Generation Project   \n",
      "2     5214  Pingjiang County Domestic Waste Harmless Landf...   \n",
      "3     5203  Luoding BCCY New Power CO., Ltd. MSW biogas to...   \n",
      "4     5186              Quanzhou Canhua PET Recycling Project   \n",
      "...    ...                                                ...   \n",
      "1951  2166  Chongqing Youyang County Youchou Hydropower St...   \n",
      "1952  2162  2 x 3.5 MW Ullunkal Hydro Power Project in Ker...   \n",
      "1953  2157                                    BAESA Project `   \n",
      "1954  2136                     cancelled duplicate of VCSR218   \n",
      "1955  2126  7.3 MW Bundled Wind Power Project by Oswal Cables   \n",
      "\n",
      "                                              Proponent  \\\n",
      "0                              Sunculture Kenya Limited   \n",
      "1                                   Multiple Proponents   \n",
      "2              Henan BCCY Environmental Energy CO.,LTD.   \n",
      "3              Henan BCCY Environmental Energy CO.,LTD.   \n",
      "4     Fujian Province Canhua Enviromental Material C...   \n",
      "...                                                 ...   \n",
      "1951                                Multiple Proponents   \n",
      "1952                                Multiple Proponents   \n",
      "1953                                                MER   \n",
      "1954                                                MER   \n",
      "1955                        Oswal Cables Private Limted   \n",
      "\n",
      "                                           Project Type AFOLU Activities  \\\n",
      "0                                   Energy distribution              NaN   \n",
      "1     Energy industries (renewable/non-renewable sou...              NaN   \n",
      "2     Energy industries (renewable/non-renewable sou...              NaN   \n",
      "3     Energy industries (renewable/non-renewable sou...              NaN   \n",
      "4                           Waste handling and disposal              NaN   \n",
      "...                                                 ...              ...   \n",
      "1951  Energy industries (renewable/non-renewable sou...              NaN   \n",
      "1952  Energy industries (renewable/non-renewable sou...              NaN   \n",
      "1953  Energy industries (renewable/non-renewable sou...              NaN   \n",
      "1954  Energy industries (renewable/non-renewable sou...              NaN   \n",
      "1955                           Manufacturing industries              NaN   \n",
      "\n",
      "     Methodology      Status Country/Area  \\\n",
      "0       AMS-I.B.   Withdrawn        Kenya   \n",
      "1        ACM0001  Registered        China   \n",
      "2        ACM0001  Registered        China   \n",
      "3        ACM0001  Registered        China   \n",
      "4        VMR0007  Registered        China   \n",
      "...          ...         ...          ...   \n",
      "1951     ACM0002   Withdrawn        China   \n",
      "1952    AMS-I.D.   Withdrawn        India   \n",
      "1953     ACM0002   Withdrawn       Brazil   \n",
      "1954     ACM0002   Withdrawn        China   \n",
      "1955     ACM0002   Withdrawn        India   \n",
      "\n",
      "     Estimated Annual Emission Reductions  Region Project Registration Date  \\\n",
      "0                                  40,000  Africa                       NaN   \n",
      "1                                  47,759     NaN                  4/7/2025   \n",
      "2                                  60,882     NaN                 3/16/2025   \n",
      "3                                  44,555    Asia                 3/16/2025   \n",
      "4                                  58,574    Asia                 2/25/2025   \n",
      "...                                   ...     ...                       ...   \n",
      "1951                              334,000     NaN                       NaN   \n",
      "1952                               16,125     NaN                       NaN   \n",
      "1953                              318,793     NaN                  3/6/2012   \n",
      "1954                              115,912     NaN                 9/25/2013   \n",
      "1955                               14,832     NaN                       NaN   \n",
      "\n",
      "     Crediting Period Start Date Crediting Period End Date  \n",
      "0                       8/1/2020                 7/31/2027  \n",
      "1                     12/17/2022                12/16/2032  \n",
      "2                      3/21/2023                 3/20/2033  \n",
      "3                     12/28/2022                12/27/2032  \n",
      "4                     11/15/2022                11/14/2032  \n",
      "...                          ...                       ...  \n",
      "1951                         NaN                       NaN  \n",
      "1952                         NaN                       NaN  \n",
      "1953                         NaN                       NaN  \n",
      "1954                         NaN                       NaN  \n",
      "1955                         NaN                       NaN  \n",
      "\n",
      "[1956 rows x 13 columns]>\n"
     ]
    }
   ],
   "source": [
    "import numpy as np\n",
    "import pandas as pd\n",
    "df = pd.read_csv(\"Carbon_Projects.csv\")\n",
    "print(df.head)"
   ]
  },
  {
   "cell_type": "code",
   "execution_count": 2,
   "id": "36ec3513",
   "metadata": {},
   "outputs": [
    {
     "name": "stdout",
     "output_type": "stream",
     "text": [
      "ID                                      False\n",
      "Name                                     True\n",
      "Proponent                               False\n",
      "Project Type                            False\n",
      "AFOLU Activities                         True\n",
      "Methodology                             False\n",
      "Status                                  False\n",
      "Country/Area                            False\n",
      "Estimated Annual Emission Reductions    False\n",
      "Region                                   True\n",
      "Project Registration Date                True\n",
      "Crediting Period Start Date              True\n",
      "Crediting Period End Date                True\n",
      "dtype: bool\n"
     ]
    }
   ],
   "source": [
    "# The data set dimension is 1956 x 13.\n",
    "# Now, we want to see if there are any missing values.\n",
    "print(df.isnull().any())"
   ]
  },
  {
   "cell_type": "code",
   "execution_count": 3,
   "id": "0d9fe198",
   "metadata": {},
   "outputs": [
    {
     "name": "stdout",
     "output_type": "stream",
     "text": [
      "<class 'pandas.core.frame.DataFrame'>\n",
      "RangeIndex: 1956 entries, 0 to 1955\n",
      "Data columns (total 13 columns):\n",
      " #   Column                                Non-Null Count  Dtype \n",
      "---  ------                                --------------  ----- \n",
      " 0   ID                                    1956 non-null   int64 \n",
      " 1   Name                                  1955 non-null   object\n",
      " 2   Proponent                             1956 non-null   object\n",
      " 3   Project Type                          1956 non-null   object\n",
      " 4   AFOLU Activities                      533 non-null    object\n",
      " 5   Methodology                           1956 non-null   object\n",
      " 6   Status                                1956 non-null   object\n",
      " 7   Country/Area                          1956 non-null   object\n",
      " 8   Estimated Annual Emission Reductions  1956 non-null   object\n",
      " 9   Region                                1875 non-null   object\n",
      " 10  Project Registration Date             1553 non-null   object\n",
      " 11  Crediting Period Start Date           1448 non-null   object\n",
      " 12  Crediting Period End Date             1448 non-null   object\n",
      "dtypes: int64(1), object(12)\n",
      "memory usage: 198.8+ KB\n",
      "None\n"
     ]
    }
   ],
   "source": [
    "# We want to check the data type of each column.\n",
    "print(df.info())"
   ]
  },
  {
   "cell_type": "code",
   "execution_count": 4,
   "id": "78453878",
   "metadata": {},
   "outputs": [],
   "source": [
    "# To change the data type of column Estimated Annual Emission Reduction to integer for further analysis\n",
    "df['Estimated Annual Emission Reductions'] = df['Estimated Annual Emission Reductions'].str.replace(',', '', regex=True).astype('Int64')"
   ]
  },
  {
   "cell_type": "code",
   "execution_count": 5,
   "id": "7f133abc",
   "metadata": {},
   "outputs": [
    {
     "name": "stdout",
     "output_type": "stream",
     "text": [
      "Int64\n"
     ]
    }
   ],
   "source": [
    "# To confirm the data type of the column as integer64\n",
    "print(df['Estimated Annual Emission Reductions'].dtype)"
   ]
  },
  {
   "cell_type": "code",
   "execution_count": 6,
   "id": "34da3e02",
   "metadata": {},
   "outputs": [
    {
     "name": "stdout",
     "output_type": "stream",
     "text": [
      "0        40000\n",
      "1        47759\n",
      "2        60882\n",
      "3        44555\n",
      "4        58574\n",
      "         ...  \n",
      "1951    334000\n",
      "1952     16125\n",
      "1953    318793\n",
      "1954    115912\n",
      "1955     14832\n",
      "Name: Estimated Annual Emission Reductions, Length: 1956, dtype: Int64\n"
     ]
    }
   ],
   "source": [
    "print(df['Estimated Annual Emission Reductions'])"
   ]
  },
  {
   "cell_type": "code",
   "execution_count": null,
   "id": "91f41045",
   "metadata": {},
   "outputs": [],
   "source": [
    "# We know that there is no missing value in Project Type column.\n",
    "# Now, we want to look at the carbon projects by project type.\n",
    "unique_count = df['Project Type'].unique()"
   ]
  },
  {
   "cell_type": "code",
   "execution_count": 9,
   "id": "317999e1",
   "metadata": {},
   "outputs": [
    {
     "data": {
      "text/plain": [
       "array(['Energy distribution',\n",
       "       'Energy industries (renewable/non-renewable sources); Waste handling and disposal',\n",
       "       'Waste handling and disposal', 'Transport',\n",
       "       'Energy industries (renewable/non-renewable sources); Mining/mineral production',\n",
       "       'Agriculture Forestry and Other Land Use', 'Energy demand',\n",
       "       'Livestock, enteric fermentation, and manure management; Waste handling and disposal',\n",
       "       'Energy industries (renewable/non-renewable sources); Fugitive emissions from fuels (solid, oil and gas); Mining/mineral production',\n",
       "       'Energy industries (renewable/non-renewable sources); Livestock, enteric fermentation, and manure management; Waste handling and disposal',\n",
       "       'Energy demand; Waste handling and disposal',\n",
       "       'Energy industries (renewable/non-renewable sources); Transport',\n",
       "       'Livestock, enteric fermentation, and manure management',\n",
       "       'Energy industries (renewable/non-renewable sources)',\n",
       "       'Transport; Waste handling and disposal', 'Construction',\n",
       "       'Fugitive emissions from fuels (solid, oil and gas)',\n",
       "       'Energy industries (renewable/non-renewable sources); Fugitive emissions from fuels (solid, oil and gas)',\n",
       "       'Agriculture Forestry and Other Land Use; Livestock, enteric fermentation, and manure management',\n",
       "       'Energy industries (renewable/non-renewable sources); Livestock, enteric fermentation, and manure management',\n",
       "       'Energy industries (renewable/non-renewable sources); Livestock, enteric fermentation, and manure management; Transport',\n",
       "       'Construction; Manufacturing industries',\n",
       "       'Energy demand; Energy industries (renewable/non-renewable sources)',\n",
       "       'Chemical industry; Transport',\n",
       "       'Chemical industry; Energy demand; Energy industries (renewable/non-renewable sources)',\n",
       "       'Manufacturing industries', 'Chemical industry',\n",
       "       'Fugitive emissions from fuels (solid, oil and gas); Mining/mineral production',\n",
       "       'Fugitive emissions from production and consumption of halocarbons and sulphur hexafluoride',\n",
       "       'Energy distribution; Energy industries (renewable/non-renewable sources); Transport',\n",
       "       'Energy industries (renewable/non-renewable sources); Manufacturing industries',\n",
       "       'Construction; Energy industries (renewable/non-renewable sources)'],\n",
       "      dtype=object)"
      ]
     },
     "execution_count": 9,
     "metadata": {},
     "output_type": "execute_result"
    }
   ],
   "source": [
    "unique_count"
   ]
  },
  {
   "cell_type": "code",
   "execution_count": 13,
   "id": "9e6060ed",
   "metadata": {},
   "outputs": [
    {
     "data": {
      "text/plain": [
       "count      1956\n",
       "nunique      32\n",
       "Name: Project Type, dtype: int64"
      ]
     },
     "execution_count": 13,
     "metadata": {},
     "output_type": "execute_result"
    }
   ],
   "source": [
    "df['Project Type'].agg(['count', 'nunique'])"
   ]
  },
  {
   "cell_type": "code",
   "execution_count": 15,
   "id": "4b1ed6f3",
   "metadata": {},
   "outputs": [
    {
     "data": {
      "text/plain": [
       "Project Type\n",
       "Energy industries (renewable/non-renewable sources)                                                                                         745\n",
       "Agriculture Forestry and Other Land Use                                                                                                     536\n",
       "Energy demand                                                                                                                               246\n",
       "Energy industries (renewable/non-renewable sources); Waste handling and disposal                                                            159\n",
       "Waste handling and disposal                                                                                                                  63\n",
       "Energy industries (renewable/non-renewable sources); Livestock, enteric fermentation, and manure management; Waste handling and disposal     59\n",
       "Livestock, enteric fermentation, and manure management; Waste handling and disposal                                                          36\n",
       "Energy industries (renewable/non-renewable sources); Mining/mineral production                                                               20\n",
       "Energy demand; Energy industries (renewable/non-renewable sources)                                                                           14\n",
       "Transport                                                                                                                                    13\n",
       "Manufacturing industries                                                                                                                      8\n",
       "Fugitive emissions from fuels (solid, oil and gas)                                                                                            7\n",
       "Livestock, enteric fermentation, and manure management                                                                                        6\n",
       "Construction                                                                                                                                  5\n",
       "Energy industries (renewable/non-renewable sources); Transport                                                                                5\n",
       "Transport; Waste handling and disposal                                                                                                        4\n",
       "Fugitive emissions from fuels (solid, oil and gas); Mining/mineral production                                                                 4\n",
       "Energy industries (renewable/non-renewable sources); Manufacturing industries                                                                 4\n",
       "Energy industries (renewable/non-renewable sources); Livestock, enteric fermentation, and manure management                                   4\n",
       "Fugitive emissions from production and consumption of halocarbons and sulphur hexafluoride                                                    3\n",
       "Construction; Manufacturing industries                                                                                                        3\n",
       "Chemical industry                                                                                                                             2\n",
       "Energy distribution                                                                                                                           1\n",
       "Energy demand; Waste handling and disposal                                                                                                    1\n",
       "Energy industries (renewable/non-renewable sources); Fugitive emissions from fuels (solid, oil and gas); Mining/mineral production            1\n",
       "Energy industries (renewable/non-renewable sources); Livestock, enteric fermentation, and manure management; Transport                        1\n",
       "Energy industries (renewable/non-renewable sources); Fugitive emissions from fuels (solid, oil and gas)                                       1\n",
       "Agriculture Forestry and Other Land Use; Livestock, enteric fermentation, and manure management                                               1\n",
       "Chemical industry; Transport                                                                                                                  1\n",
       "Chemical industry; Energy demand; Energy industries (renewable/non-renewable sources)                                                         1\n",
       "Energy distribution; Energy industries (renewable/non-renewable sources); Transport                                                           1\n",
       "Construction; Energy industries (renewable/non-renewable sources)                                                                             1\n",
       "Name: count, dtype: int64"
      ]
     },
     "execution_count": 15,
     "metadata": {},
     "output_type": "execute_result"
    }
   ],
   "source": [
    "df['Project Type'].value_counts()"
   ]
  },
  {
   "cell_type": "markdown",
   "id": "5680dd6a",
   "metadata": {},
   "source": [
    "In this dataset, there are 32 unique project types.\n",
    "\n",
    "In the Project Type column, the project types registered in Verra are:\n",
    "\n",
    "- Energy Distribution\n",
    "- Energy industries (renewable/non-renewable): waste handlind and disposal\n",
    "- Wate Handling and disposal\n",
    "- Transport\n",
    "- "
   ]
  },
  {
   "cell_type": "code",
   "execution_count": 20,
   "id": "44ff357a",
   "metadata": {},
   "outputs": [
    {
     "name": "stdout",
     "output_type": "stream",
     "text": [
      "['Withdrawn' 'Registered' 'Rejected by Administrator'\n",
      " 'Registration and verification approval request denied'\n",
      " 'Registration request denied']\n"
     ]
    }
   ],
   "source": [
    "print(df['Status'].unique())"
   ]
  },
  {
   "cell_type": "code",
   "execution_count": 60,
   "id": "5c9d3c8f",
   "metadata": {},
   "outputs": [
    {
     "data": {
      "text/plain": [
       "count                                                   1956\n",
       "unique     [Withdrawn, Registered, Rejected by Administra...\n",
       "nunique                                                    5\n",
       "Name: Status, dtype: object"
      ]
     },
     "execution_count": 60,
     "metadata": {},
     "output_type": "execute_result"
    }
   ],
   "source": [
    "df['Status'].agg(['count', 'unique', 'nunique'])"
   ]
  },
  {
   "cell_type": "code",
   "execution_count": 29,
   "id": "5b10a8b0",
   "metadata": {},
   "outputs": [
    {
     "data": {
      "text/plain": [
       "Status\n",
       "Registered                                               1461\n",
       "Withdrawn                                                 240\n",
       "Rejected by Administrator                                 161\n",
       "Registration and verification approval request denied      79\n",
       "Registration request denied                                15\n",
       "Name: count, dtype: int64"
      ]
     },
     "execution_count": 29,
     "metadata": {},
     "output_type": "execute_result"
    }
   ],
   "source": [
    "df['Status'].value_counts()"
   ]
  },
  {
   "cell_type": "markdown",
   "id": "05a0ff3d",
   "metadata": {},
   "source": [
    "As I perform value_count function from pandas library on `Status` column, the dataset has:\n",
    "- Registered: 1461\n",
    "- Withdrawn: 240\n",
    "- Rejected by Administrator: 161\n",
    "- Registration and verification approval request denied: 79\n",
    "Registration request denied: 15"
   ]
  },
  {
   "cell_type": "code",
   "execution_count": 31,
   "id": "d529fb2e",
   "metadata": {},
   "outputs": [
    {
     "name": "stdout",
     "output_type": "stream",
     "text": [
      "0.7469325153374233\n"
     ]
    }
   ],
   "source": [
    "Approval_percentage = print(1461/1956)"
   ]
  },
  {
   "cell_type": "code",
   "execution_count": 64,
   "id": "43a317f1",
   "metadata": {},
   "outputs": [
    {
     "data": {
      "text/plain": [
       "Status\n",
       "Registered                                               0.746933\n",
       "Withdrawn                                                0.122699\n",
       "Rejected by Administrator                                0.082311\n",
       "Registration and verification approval request denied    0.040389\n",
       "Registration request denied                              0.007669\n",
       "Name: proportion, dtype: float64"
      ]
     },
     "execution_count": 64,
     "metadata": {},
     "output_type": "execute_result"
    }
   ],
   "source": [
    "df['Status'].value_counts('Registered')"
   ]
  },
  {
   "cell_type": "code",
   "execution_count": 65,
   "id": "de8a601f",
   "metadata": {},
   "outputs": [
    {
     "data": {
      "text/plain": [
       "np.int64(1461)"
      ]
     },
     "execution_count": 65,
     "metadata": {},
     "output_type": "execute_result"
    }
   ],
   "source": [
    "(df['Status'] == 'Registered').sum()"
   ]
  },
  {
   "cell_type": "markdown",
   "id": "9e763cba",
   "metadata": {},
   "source": [
    "74.69 percent of projects in Verra are registered, and not denied."
   ]
  },
  {
   "cell_type": "code",
   "execution_count": null,
   "id": "485670ba",
   "metadata": {},
   "outputs": [],
   "source": []
  },
  {
   "cell_type": "code",
   "execution_count": null,
   "id": "9edc371a",
   "metadata": {},
   "outputs": [
    {
     "name": "stdout",
     "output_type": "stream",
     "text": [
      "Registered projects: 1461\n",
      "Not Registered projects: 495\n"
     ]
    }
   ],
   "source": [
    "# To confirm the shape of the \n",
    "print(f\"Registered projects: {df_registered.shape[0]}\")\n",
    "print(f\"Not Registered projects: {df_not_registered.shape[0]}\")"
   ]
  },
  {
   "cell_type": "code",
   "execution_count": null,
   "id": "d1beb756",
   "metadata": {},
   "outputs": [],
   "source": [
    "# To convert filtered datasets into separate CSV files\n",
    "df_registered.to_csv(\"Registered_Projects.csv\", index=False)\n",
    "df_not_registered.to_csv(\"Not_Registered_Projects.csv\", index=False)"
   ]
  },
  {
   "cell_type": "code",
   "execution_count": null,
   "id": "b048101d",
   "metadata": {},
   "outputs": [
    {
     "data": {
      "text/plain": [
       "Methodology\n",
       "ACM0002               484\n",
       "VMR0006               145\n",
       "AMS-I.D.              142\n",
       "AR-ACM0003            127\n",
       "AMS-III.AU            111\n",
       "                     ... \n",
       "VM0004                  1\n",
       "VM0001                  1\n",
       "VM0025; VMD0038         1\n",
       "AMS-I.C.; AMS-I.D.      1\n",
       "AMS-III.Y               1\n",
       "Name: count, Length: 140, dtype: int64"
      ]
     },
     "execution_count": 62,
     "metadata": {},
     "output_type": "execute_result"
    }
   ],
   "source": [
    "df['Methodology'].agg(['count', 'unique', 'nunique'])\n",
    "df['Methodology'].value_counts()\n",
    "# We wee that ACM0002 is the most common methodology"
   ]
  },
  {
   "cell_type": "markdown",
   "id": "b370d8bf",
   "metadata": {},
   "source": [
    "Energy (renewable/non-renewable)\n",
    "Energy distribution\n",
    "Energy demand\n",
    "Manufacturing industries\n",
    "Chemical industry\n",
    "Construction\n",
    "Transport\n",
    "Mining/Mineral production\n",
    "Metal production\n",
    "Fugitive emissions – from fuels (solid, oil, and gas)\n",
    "Fugitive emissions – from Industrial gases (halocarbons and sulphur hexafluoride)\n",
    "Solvents use\n",
    "Waste handling and disposal\n",
    "Agriculture, forestry and other land use (AFOLU)\n",
    "Livestock and manure management\n",
    "Carbon capture and storage"
   ]
  },
  {
   "cell_type": "code",
   "execution_count": 63,
   "id": "72f94e0c",
   "metadata": {},
   "outputs": [],
   "source": [
    "labels = ['Energy (renewable/non-renewable)',\n",
    "          'Energy distribution',\n",
    "          'Energy demand',\n",
    "          'Manufacturing industries',\n",
    "          'Chemical industry',\n",
    "          'Construction',\n",
    "          'Transport',\n",
    "          'Mining/Mineral production',\n",
    "          'Metal production',\n",
    "          'Fugitive emissions – from fuels (solid, oil, and gas)',\n",
    "          'Fugitive emissions – from Industrial gases (halocarbons and sulphur hexafluoride)',\n",
    "          'Solvents use',\n",
    "          'Waste handling and disposal',\n",
    "          'Agriculture, forestry and other land use (AFOLU)',\n",
    "          'Livestock and manure management',\n",
    "          'Carbon capture and storage']\n",
    "\n",
    "Labels_Data = pd.DataFrame(labels)"
   ]
  },
  {
   "cell_type": "code",
   "execution_count": 66,
   "id": "23b70886",
   "metadata": {},
   "outputs": [
    {
     "data": {
      "text/plain": [
       "Project Type\n",
       "Energy industries (renewable/non-renewable sources)                                                                                         745\n",
       "Agriculture Forestry and Other Land Use                                                                                                     536\n",
       "Energy demand                                                                                                                               246\n",
       "Energy industries (renewable/non-renewable sources); Waste handling and disposal                                                            159\n",
       "Waste handling and disposal                                                                                                                  63\n",
       "Energy industries (renewable/non-renewable sources); Livestock, enteric fermentation, and manure management; Waste handling and disposal     59\n",
       "Livestock, enteric fermentation, and manure management; Waste handling and disposal                                                          36\n",
       "Energy industries (renewable/non-renewable sources); Mining/mineral production                                                               20\n",
       "Energy demand; Energy industries (renewable/non-renewable sources)                                                                           14\n",
       "Transport                                                                                                                                    13\n",
       "Manufacturing industries                                                                                                                      8\n",
       "Fugitive emissions from fuels (solid, oil and gas)                                                                                            7\n",
       "Livestock, enteric fermentation, and manure management                                                                                        6\n",
       "Construction                                                                                                                                  5\n",
       "Energy industries (renewable/non-renewable sources); Transport                                                                                5\n",
       "Transport; Waste handling and disposal                                                                                                        4\n",
       "Fugitive emissions from fuels (solid, oil and gas); Mining/mineral production                                                                 4\n",
       "Energy industries (renewable/non-renewable sources); Manufacturing industries                                                                 4\n",
       "Energy industries (renewable/non-renewable sources); Livestock, enteric fermentation, and manure management                                   4\n",
       "Fugitive emissions from production and consumption of halocarbons and sulphur hexafluoride                                                    3\n",
       "Construction; Manufacturing industries                                                                                                        3\n",
       "Chemical industry                                                                                                                             2\n",
       "Energy distribution                                                                                                                           1\n",
       "Energy demand; Waste handling and disposal                                                                                                    1\n",
       "Energy industries (renewable/non-renewable sources); Fugitive emissions from fuels (solid, oil and gas); Mining/mineral production            1\n",
       "Energy industries (renewable/non-renewable sources); Livestock, enteric fermentation, and manure management; Transport                        1\n",
       "Energy industries (renewable/non-renewable sources); Fugitive emissions from fuels (solid, oil and gas)                                       1\n",
       "Agriculture Forestry and Other Land Use; Livestock, enteric fermentation, and manure management                                               1\n",
       "Chemical industry; Transport                                                                                                                  1\n",
       "Chemical industry; Energy demand; Energy industries (renewable/non-renewable sources)                                                         1\n",
       "Energy distribution; Energy industries (renewable/non-renewable sources); Transport                                                           1\n",
       "Construction; Energy industries (renewable/non-renewable sources)                                                                             1\n",
       "Name: count, dtype: int64"
      ]
     },
     "execution_count": 66,
     "metadata": {},
     "output_type": "execute_result"
    }
   ],
   "source": [
    "df['Project Type'].value_counts()"
   ]
  },
  {
   "cell_type": "code",
   "execution_count": 67,
   "id": "06868c3b",
   "metadata": {},
   "outputs": [],
   "source": [
    "Registered = pd.read_csv(\"Registered_Projects.csv\")"
   ]
  },
  {
   "cell_type": "code",
   "execution_count": 68,
   "id": "c7f23602",
   "metadata": {},
   "outputs": [
    {
     "data": {
      "text/plain": [
       "Project Type\n",
       "Energy industries (renewable/non-renewable sources)                                                                                         664\n",
       "Agriculture Forestry and Other Land Use                                                                                                     226\n",
       "Energy demand                                                                                                                               210\n",
       "Energy industries (renewable/non-renewable sources); Waste handling and disposal                                                            139\n",
       "Waste handling and disposal                                                                                                                  57\n",
       "Energy industries (renewable/non-renewable sources); Livestock, enteric fermentation, and manure management; Waste handling and disposal     34\n",
       "Livestock, enteric fermentation, and manure management; Waste handling and disposal                                                          31\n",
       "Energy industries (renewable/non-renewable sources); Mining/mineral production                                                               19\n",
       "Energy demand; Energy industries (renewable/non-renewable sources)                                                                           13\n",
       "Transport                                                                                                                                    11\n",
       "Fugitive emissions from fuels (solid, oil and gas)                                                                                            7\n",
       "Manufacturing industries                                                                                                                      7\n",
       "Energy industries (renewable/non-renewable sources); Transport                                                                                5\n",
       "Livestock, enteric fermentation, and manure management                                                                                        5\n",
       "Construction                                                                                                                                  5\n",
       "Energy industries (renewable/non-renewable sources); Manufacturing industries                                                                 4\n",
       "Transport; Waste handling and disposal                                                                                                        4\n",
       "Fugitive emissions from fuels (solid, oil and gas); Mining/mineral production                                                                 4\n",
       "Energy industries (renewable/non-renewable sources); Livestock, enteric fermentation, and manure management                                   4\n",
       "Construction; Manufacturing industries                                                                                                        3\n",
       "Fugitive emissions from production and consumption of halocarbons and sulphur hexafluoride                                                    2\n",
       "Energy industries (renewable/non-renewable sources); Fugitive emissions from fuels (solid, oil and gas); Mining/mineral production            1\n",
       "Energy industries (renewable/non-renewable sources); Fugitive emissions from fuels (solid, oil and gas)                                       1\n",
       "Energy industries (renewable/non-renewable sources); Livestock, enteric fermentation, and manure management; Transport                        1\n",
       "Chemical industry; Energy demand; Energy industries (renewable/non-renewable sources)                                                         1\n",
       "Chemical industry                                                                                                                             1\n",
       "Energy distribution; Energy industries (renewable/non-renewable sources); Transport                                                           1\n",
       "Construction; Energy industries (renewable/non-renewable sources)                                                                             1\n",
       "Name: count, dtype: int64"
      ]
     },
     "execution_count": 68,
     "metadata": {},
     "output_type": "execute_result"
    }
   ],
   "source": [
    "Registered['Project Type'].value_counts()"
   ]
  },
  {
   "cell_type": "code",
   "execution_count": null,
   "id": "a42ed168",
   "metadata": {},
   "outputs": [
    {
     "data": {
      "text/plain": [
       "ID                                         0\n",
       "Name                                       1\n",
       "Proponent                                  0\n",
       "Project Type                               0\n",
       "AFOLU Activities                        1423\n",
       "Methodology                                0\n",
       "Status                                     0\n",
       "Country/Area                               0\n",
       "Estimated Annual Emission Reductions       0\n",
       "Region                                    81\n",
       "Project Registration Date                403\n",
       "Crediting Period Start Date              508\n",
       "Crediting Period End Date                508\n",
       "dtype: int64"
      ]
     },
     "execution_count": 74,
     "metadata": {},
     "output_type": "execute_result"
    }
   ],
   "source": [
    "Registered.isnull().sum()\n"
   ]
  },
  {
   "cell_type": "code",
   "execution_count": 75,
   "id": "e20b9d67",
   "metadata": {},
   "outputs": [
    {
     "data": {
      "text/plain": [
       "ID                                         0\n",
       "Name                                       1\n",
       "Proponent                                  0\n",
       "Project Type                               0\n",
       "AFOLU Activities                        1423\n",
       "Methodology                                0\n",
       "Status                                     0\n",
       "Country/Area                               0\n",
       "Estimated Annual Emission Reductions       0\n",
       "Region                                    81\n",
       "Project Registration Date                403\n",
       "Crediting Period Start Date              508\n",
       "Crediting Period End Date                508\n",
       "dtype: int64"
      ]
     },
     "execution_count": 75,
     "metadata": {},
     "output_type": "execute_result"
    }
   ],
   "source": [
    "df.isnull().sum()"
   ]
  },
  {
   "cell_type": "markdown",
   "id": "9d4f4ffc",
   "metadata": {},
   "source": [
    "Registered['Region'].isnull()"
   ]
  },
  {
   "cell_type": "code",
   "execution_count": null,
   "id": "93462006",
   "metadata": {},
   "outputs": [
    {
     "name": "stdout",
     "output_type": "stream",
     "text": [
      "1               China\n",
      "2               China\n",
      "5               China\n",
      "14              China\n",
      "18              China\n",
      "24              China\n",
      "34              China\n",
      "109             China\n",
      "425            Turkey\n",
      "428            Turkey\n",
      "522             China\n",
      "524             China\n",
      "582           Nigeria\n",
      "614             China\n",
      "699             India\n",
      "789        Madagascar\n",
      "1092            India\n",
      "1134            China\n",
      "1147            China\n",
      "1156      Netherlands\n",
      "1159           Turkey\n",
      "1167           Turkey\n",
      "1172            India\n",
      "1197           Turkey\n",
      "1234            China\n",
      "1288    United States\n",
      "1290           Turkey\n",
      "1291           Turkey\n",
      "1299            China\n",
      "1306         Thailand\n",
      "1307            China\n",
      "1309            China\n",
      "1317            China\n",
      "1324            India\n",
      "1329            China\n",
      "1331            China\n",
      "1333            India\n",
      "1334            China\n",
      "1335            China\n",
      "1337            China\n",
      "1338            China\n",
      "1339            China\n",
      "1340            China\n",
      "1341            India\n",
      "1365            India\n",
      "1373           Brazil\n",
      "1380            China\n",
      "1387            China\n",
      "1388            China\n",
      "1395            India\n",
      "1407           Turkey\n",
      "1437            China\n",
      "1450            India\n",
      "1451            India\n",
      "1464            India\n",
      "1465            India\n",
      "1528            China\n",
      "1562            China\n",
      "1563            China\n",
      "1591            India\n",
      "1608            India\n",
      "1615          Senegal\n",
      "1634            China\n",
      "1651         Thailand\n",
      "1652         Thailand\n",
      "1665            China\n",
      "1741            India\n",
      "1764            India\n",
      "1827         Thailand\n",
      "1838           Brazil\n",
      "1847            China\n",
      "1865         Colombia\n",
      "1899           Turkey\n",
      "1942         Colombia\n",
      "1945         Pakistan\n",
      "1948            India\n",
      "1951            China\n",
      "1952            India\n",
      "1953           Brazil\n",
      "1954            China\n",
      "1955            India\n",
      "Name: Country/Area, dtype: object\n",
      "Series([], Name: count, dtype: int64)\n"
     ]
    }
   ],
   "source": [
    "missing_region_Registered_df = df[df['Country/Area'].notnull() & df['Region'].isnull()]\n",
    "\n",
    "print(missing_region_Registered_df['Country/Area'])\n"
   ]
  },
  {
   "cell_type": "code",
   "execution_count": 83,
   "id": "ba392c09",
   "metadata": {},
   "outputs": [
    {
     "name": "stdout",
     "output_type": "stream",
     "text": [
      "Country/Area\n",
      "China            38\n",
      "India            19\n",
      "Turkey            9\n",
      "Thailand          4\n",
      "Brazil            3\n",
      "Colombia          2\n",
      "Nigeria           1\n",
      "Madagascar        1\n",
      "United States     1\n",
      "Netherlands       1\n",
      "Senegal           1\n",
      "Pakistan          1\n",
      "Name: count, dtype: int64\n"
     ]
    }
   ],
   "source": [
    "print(missing_region_Registered_df['Country/Area'].value_counts())"
   ]
  },
  {
   "cell_type": "code",
   "execution_count": 86,
   "id": "d0e7550e",
   "metadata": {},
   "outputs": [],
   "source": [
    "Missing_Region1_Labels = {'China' : 'Asia',\n",
    "                         'India': 'Asia',\n",
    "                         'Turkey': 'Asia',\n",
    "                         'Thailand': 'Asia',\n",
    "                         'Brazil': 'Latin America',\n",
    "                         'Colombia': 'Latin America',\n",
    "                         'Nigeria': 'Africa',\n",
    "                         'Madagascar': 'Africa',\n",
    "                         'United States': 'North America',\n",
    "                         'Netherlands': 'Europe',\n",
    "                         'Senegal': 'Africa',\n",
    "                         'Pakistan': 'Asia'}\n",
    "\n"
   ]
  },
  {
   "cell_type": "code",
   "execution_count": 87,
   "id": "c9d33e0d",
   "metadata": {},
   "outputs": [],
   "source": [
    "Missing_Region_labels = {\n",
    "    country: 'Asia' for country in ['China', 'India', 'Pakistan', 'Turkey', 'Thailand']\n",
    " } | {\n",
    "     country: 'Latin America' for country in ['Brazil', 'Colombia']\n",
    " } | {\n",
    "     country: 'Africa' for country in ['Nigeria', 'Madagascar', 'Senegal']\n",
    " } | {\n",
    "     'United States': 'North America',\n",
    "     'Netherlands': 'Europe'\n",
    " }"
   ]
  },
  {
   "cell_type": "code",
   "execution_count": 88,
   "id": "185c2632",
   "metadata": {},
   "outputs": [],
   "source": [
    "df.loc[df['Region'].isna() & df['Country/Area'].isin(Missing_Region1_Labels),\n",
    "       'Region'\n",
    "       ] = df['Country/Area'].map(Missing_Region1_Labels)"
   ]
  },
  {
   "cell_type": "code",
   "execution_count": 89,
   "id": "acf6aa8c",
   "metadata": {},
   "outputs": [],
   "source": [
    "# To convert filtered datasets into separate CSV files\n",
    "df.to_csv(\"Carbon_Projects_Version2.csv\", index=False)"
   ]
  },
  {
   "cell_type": "code",
   "execution_count": 90,
   "id": "be4c3eb3",
   "metadata": {},
   "outputs": [],
   "source": [
    "# We want to filter data by the project status: registered or not\n",
    "df_registered = df[df['Status'] == 'Registered']\n",
    "df_not_registered = df[df['Status'] != 'Registered']"
   ]
  },
  {
   "cell_type": "code",
   "execution_count": 91,
   "id": "c7e2f76c",
   "metadata": {},
   "outputs": [],
   "source": [
    "# To convert filtered datasets into separate CSV files\n",
    "df_registered.to_csv(\"Registered_Projects.csv\", index=False)\n",
    "df_not_registered.to_csv(\"Not_Registered_Projects.csv\", index=False)"
   ]
  },
  {
   "cell_type": "code",
   "execution_count": 4,
   "id": "981d938e",
   "metadata": {},
   "outputs": [
    {
     "data": {
      "text/plain": [
       "Country/Area\n",
       "China         630\n",
       "India         460\n",
       "Turkey        154\n",
       "Brazil        101\n",
       "Colombia       49\n",
       "             ... \n",
       "Ecuador         1\n",
       "Costa Rica      1\n",
       "Ethiopia        1\n",
       "Georgia         1\n",
       "Tajikistan      1\n",
       "Name: count, Length: 102, dtype: int64"
      ]
     },
     "execution_count": 4,
     "metadata": {},
     "output_type": "execute_result"
    }
   ],
   "source": [
    "import pandas as pd\n",
    "Registered = pd.read_csv(\"Carbon_Projects_Version2.csv\")\n",
    "\n",
    "Registered['Country/Area'].value_counts()\n"
   ]
  },
  {
   "cell_type": "code",
   "execution_count": 5,
   "id": "dfcfc906",
   "metadata": {},
   "outputs": [],
   "source": [
    "# Let us make a dictionary that matches countries/areas to proper regions\n",
    "\n",
    "\n",
    "country_region_map = {\n",
    "    'Albania': 'Southern Europe',\n",
    "    'Angola': ' Middle Africa',\n",
    "    'Argentina': 'South America',\n",
    "    'Austria': 'Western Europe',\n",
    "    'Bahamas': 'Central America and the Caribbean',\n",
    "    'Bahrain': 'Western Asia',\n",
    "    'Bangladesh': 'Southern Asia',\n",
    "    'Belize': 'Central America',\n",
    "    'Benin': 'Western Africa',\n",
    "    'Brazil': 'South America',\n",
    "    'Burkina Faso': 'Western Africa',\n",
    "    'Burundi': 'Eastern Africa',\n",
    "    'Cambodia': 'South-eastern Asia',\n",
    "    'Cameroon': 'Middle Africa',\n",
    "    'Canada': 'North America',\n",
    "    'Central African Republic': 'Middle Africa',\n",
    "    'Chad': 'Middle Africa',\n",
    "    'Chile': 'South America',\n",
    "    'China': 'Eastern Asia',\n",
    "    'Colombia': 'South America',\n",
    "    'Comoros': 'Eastern Africa',\n",
    "    'Congo': 'Middle Africa',\n",
    "    'Congo, The Democratic Republic of The': 'Middle Africa',\n",
    "    'Costa Rica': 'Central America',\n",
    "    'Cote D\\'Ivoire': 'Africa',\n",
    "    'Dominican Republic': 'Caribbean',\n",
    "    'Ecuador': 'South America',\n",
    "    'Egypt': 'Northern Africa',\n",
    "    'El Salvador': 'Central America',\n",
    "    'Estonia': 'Northern Europe',\n",
    "    'Ethiopia': 'Eastern Africa',\n",
    "    'Fiji': 'Melanesia',\n",
    "    'Gambia': 'Western Africa',\n",
    "    'Germany': 'Western Europe',\n",
    "    'Ghana': 'Western Africa',\n",
    "    'Guatemala': 'Central America',\n",
    "    'Guinea-Bissau': 'Western Africa',\n",
    "    'Honduras': 'Central America',\n",
    "    'Iceland': 'Northern Europe',\n",
    "    'India': 'Southern Asia',\n",
    "    'Indonesia': 'South-eastern Asia',\n",
    "    'Israel': 'Western Asia',\n",
    "    'Italy': 'Southern Europe',\n",
    "    'Japan': 'Eastern Asia',\n",
    "    'Jordan': 'Western Asia',\n",
    "    'Kazakhstan': 'Central Asia',\n",
    "    'Kenya': 'Eastern Africa',\n",
    "    'Lao': 'South-eastern Asia',\n",
    "    'Liberia': 'Western Africa',\n",
    "    'Lithuania': 'Northern Europe',\n",
    "    'Madagascar': 'Eastern Africa',\n",
    "    'Malawi': 'Eastern Africa',\n",
    "    'Malaysia': 'South-eastern Africa',\n",
    "    'Mauritania': 'Western Africa',\n",
    "    'Mauritius': 'Eastern Africa',\n",
    "    'Mexico': 'Central America',\n",
    "    'Morocco': 'Northern Africa',\n",
    "    'Mozambique': 'Eastern Africa',\n",
    "    'Myanmar': 'South-eastern Asia',\n",
    "    'Namibia': 'Southern Africa',\n",
    "    'Nepal': 'Southern Asia',\n",
    "    'Netherlands': 'Western Europe',\n",
    "    'New Zealand': 'Australia and New Zealand',\n",
    "    'Nicaragua': 'Central America',\n",
    "    'Niger': 'Western Africa',\n",
    "    'Nigeria': 'Western Africa',\n",
    "    'Oman': 'Western Asia',\n",
    "    'Pakistan': 'Southern Asia',\n",
    "    'Panama': 'Central America',\n",
    "    'Papua New Guinea': 'Melanesia',\n",
    "    'Paraguay': 'South America',\n",
    "    'Peru': 'South America',\n",
    "    'Philippines': 'South-eastern Asia',\n",
    "    'Romania': 'Eastern Europe',\n",
    "    'Russian Federation': 'Eastern Europe',\n",
    "    'Rwanda': 'Eastern Africa',\n",
    "    'Saudi Arabia': 'Western Asia',\n",
    "    'Senegal': 'Western Africa',\n",
    "    'Serbia': 'Southern Europe',\n",
    "    'Sierra Leone': 'Western Africa',\n",
    "    'Singapore': 'South-eastern Asia',\n",
    "    'South Africa': 'Southern Africa',\n",
    "    'South Korea': 'Eastern Asia',\n",
    "    'Spain': 'Southern Europe',\n",
    "    'Sri Lanka': 'Southern Asia',\n",
    "    'Switzerland': 'Western Europe',\n",
    "    'Tajikistan': 'Central Asia',\n",
    "    'Tanzania': 'Easetern Africa',\n",
    "    'Thailand': 'South-eastern Asia',\n",
    "    'Timor-Leste': 'Indonesia',\n",
    "    'Togo': 'Western Africa',\n",
    "    'Turkey': 'Western Asia',\n",
    "    'Uganda': 'Eastern Africa',\n",
    "    'United Kingdom': 'Northern Europe',\n",
    "    'United States': 'Northern America',\n",
    "    'Uruguay': 'South America',\n",
    "    'Uzbekistan': 'Central Asia',\n",
    "    'Viet Nam': 'South-eastern Asia',\n",
    "    'Zambia': 'Eastern Africa',\n",
    "    'Zimbabwe': 'Eastern Africa'\n",
    "    }"
   ]
  },
  {
   "cell_type": "code",
   "execution_count": null,
   "id": "3d4bfe76",
   "metadata": {},
   "outputs": [],
   "source": [
    "# We want to first fit the dictionary to the dataset to ensure consistency\n",
    "\n"
   ]
  },
  {
   "cell_type": "code",
   "execution_count": null,
   "id": "b91803b1",
   "metadata": {},
   "outputs": [],
   "source": [
    "# Then, we make a new dictionary:\n",
    "\n"
   ]
  }
 ],
 "metadata": {
  "kernelspec": {
   "display_name": "ds_project_env",
   "language": "python",
   "name": "python3"
  },
  "language_info": {
   "codemirror_mode": {
    "name": "ipython",
    "version": 3
   },
   "file_extension": ".py",
   "mimetype": "text/x-python",
   "name": "python",
   "nbconvert_exporter": "python",
   "pygments_lexer": "ipython3",
   "version": "3.11.11"
  }
 },
 "nbformat": 4,
 "nbformat_minor": 5
}
