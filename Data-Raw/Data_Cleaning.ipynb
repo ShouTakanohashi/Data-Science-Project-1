{
 "cells": [
  {
   "cell_type": "markdown",
   "id": "c83da9a1",
   "metadata": {},
   "source": [
    "# Data Cleaning"
   ]
  },
  {
   "cell_type": "code",
   "execution_count": 1,
   "id": "34c441f8",
   "metadata": {},
   "outputs": [
    {
     "name": "stdout",
     "output_type": "stream",
     "text": [
      "<bound method NDFrame.head of         ID                                               Name  \\\n",
      "0     5302       SD Vista - Solar Water Pump Project in Kenya   \n",
      "1     5264                 Yunfu LFG Power Generation Project   \n",
      "2     5214  Pingjiang County Domestic Waste Harmless Landf...   \n",
      "3     5203  Luoding BCCY New Power CO., Ltd. MSW biogas to...   \n",
      "4     5186              Quanzhou Canhua PET Recycling Project   \n",
      "...    ...                                                ...   \n",
      "1951  2166  Chongqing Youyang County Youchou Hydropower St...   \n",
      "1952  2162  2 x 3.5 MW Ullunkal Hydro Power Project in Ker...   \n",
      "1953  2157                                    BAESA Project `   \n",
      "1954  2136                     cancelled duplicate of VCSR218   \n",
      "1955  2126  7.3 MW Bundled Wind Power Project by Oswal Cables   \n",
      "\n",
      "                                              Proponent  \\\n",
      "0                              Sunculture Kenya Limited   \n",
      "1                                   Multiple Proponents   \n",
      "2              Henan BCCY Environmental Energy CO.,LTD.   \n",
      "3              Henan BCCY Environmental Energy CO.,LTD.   \n",
      "4     Fujian Province Canhua Enviromental Material C...   \n",
      "...                                                 ...   \n",
      "1951                                Multiple Proponents   \n",
      "1952                                Multiple Proponents   \n",
      "1953                                                MER   \n",
      "1954                                                MER   \n",
      "1955                        Oswal Cables Private Limted   \n",
      "\n",
      "                                           Project Type AFOLU Activities  \\\n",
      "0                                   Energy distribution              NaN   \n",
      "1     Energy industries (renewable/non-renewable sou...              NaN   \n",
      "2     Energy industries (renewable/non-renewable sou...              NaN   \n",
      "3     Energy industries (renewable/non-renewable sou...              NaN   \n",
      "4                           Waste handling and disposal              NaN   \n",
      "...                                                 ...              ...   \n",
      "1951  Energy industries (renewable/non-renewable sou...              NaN   \n",
      "1952  Energy industries (renewable/non-renewable sou...              NaN   \n",
      "1953  Energy industries (renewable/non-renewable sou...              NaN   \n",
      "1954  Energy industries (renewable/non-renewable sou...              NaN   \n",
      "1955                           Manufacturing industries              NaN   \n",
      "\n",
      "     Methodology      Status Country/Area  \\\n",
      "0       AMS-I.B.   Withdrawn        Kenya   \n",
      "1        ACM0001  Registered        China   \n",
      "2        ACM0001  Registered        China   \n",
      "3        ACM0001  Registered        China   \n",
      "4        VMR0007  Registered        China   \n",
      "...          ...         ...          ...   \n",
      "1951     ACM0002   Withdrawn        China   \n",
      "1952    AMS-I.D.   Withdrawn        India   \n",
      "1953     ACM0002   Withdrawn       Brazil   \n",
      "1954     ACM0002   Withdrawn        China   \n",
      "1955     ACM0002   Withdrawn        India   \n",
      "\n",
      "     Estimated Annual Emission Reductions  Region Project Registration Date  \\\n",
      "0                                  40,000  Africa                       NaN   \n",
      "1                                  47,759     NaN                  4/7/2025   \n",
      "2                                  60,882     NaN                 3/16/2025   \n",
      "3                                  44,555    Asia                 3/16/2025   \n",
      "4                                  58,574    Asia                 2/25/2025   \n",
      "...                                   ...     ...                       ...   \n",
      "1951                              334,000     NaN                       NaN   \n",
      "1952                               16,125     NaN                       NaN   \n",
      "1953                              318,793     NaN                  3/6/2012   \n",
      "1954                              115,912     NaN                 9/25/2013   \n",
      "1955                               14,832     NaN                       NaN   \n",
      "\n",
      "     Crediting Period Start Date Crediting Period End Date  \n",
      "0                       8/1/2020                 7/31/2027  \n",
      "1                     12/17/2022                12/16/2032  \n",
      "2                      3/21/2023                 3/20/2033  \n",
      "3                     12/28/2022                12/27/2032  \n",
      "4                     11/15/2022                11/14/2032  \n",
      "...                          ...                       ...  \n",
      "1951                         NaN                       NaN  \n",
      "1952                         NaN                       NaN  \n",
      "1953                         NaN                       NaN  \n",
      "1954                         NaN                       NaN  \n",
      "1955                         NaN                       NaN  \n",
      "\n",
      "[1956 rows x 13 columns]>\n"
     ]
    }
   ],
   "source": [
    "import numpy as np\n",
    "import pandas as pd\n",
    "df = pd.read_csv(\"Carbon_Projects.csv\")\n",
    "print(df.head)"
   ]
  },
  {
   "cell_type": "code",
   "execution_count": 2,
   "id": "36ec3513",
   "metadata": {},
   "outputs": [
    {
     "name": "stdout",
     "output_type": "stream",
     "text": [
      "ID                                      False\n",
      "Name                                     True\n",
      "Proponent                               False\n",
      "Project Type                            False\n",
      "AFOLU Activities                         True\n",
      "Methodology                             False\n",
      "Status                                  False\n",
      "Country/Area                            False\n",
      "Estimated Annual Emission Reductions    False\n",
      "Region                                   True\n",
      "Project Registration Date                True\n",
      "Crediting Period Start Date              True\n",
      "Crediting Period End Date                True\n",
      "dtype: bool\n"
     ]
    }
   ],
   "source": [
    "# The data set dimension is 1956 x 13.\n",
    "# Now, we want to see if there are any missing values.\n",
    "print(df.isnull().any())"
   ]
  },
  {
   "cell_type": "code",
   "execution_count": 3,
   "id": "0d9fe198",
   "metadata": {},
   "outputs": [
    {
     "name": "stdout",
     "output_type": "stream",
     "text": [
      "<class 'pandas.core.frame.DataFrame'>\n",
      "RangeIndex: 1956 entries, 0 to 1955\n",
      "Data columns (total 13 columns):\n",
      " #   Column                                Non-Null Count  Dtype \n",
      "---  ------                                --------------  ----- \n",
      " 0   ID                                    1956 non-null   int64 \n",
      " 1   Name                                  1955 non-null   object\n",
      " 2   Proponent                             1956 non-null   object\n",
      " 3   Project Type                          1956 non-null   object\n",
      " 4   AFOLU Activities                      533 non-null    object\n",
      " 5   Methodology                           1956 non-null   object\n",
      " 6   Status                                1956 non-null   object\n",
      " 7   Country/Area                          1956 non-null   object\n",
      " 8   Estimated Annual Emission Reductions  1956 non-null   object\n",
      " 9   Region                                1875 non-null   object\n",
      " 10  Project Registration Date             1553 non-null   object\n",
      " 11  Crediting Period Start Date           1448 non-null   object\n",
      " 12  Crediting Period End Date             1448 non-null   object\n",
      "dtypes: int64(1), object(12)\n",
      "memory usage: 198.8+ KB\n",
      "None\n"
     ]
    }
   ],
   "source": [
    "# We want to check the data type of each column.\n",
    "print(df.info())"
   ]
  },
  {
   "cell_type": "code",
   "execution_count": 4,
   "id": "78453878",
   "metadata": {},
   "outputs": [],
   "source": [
    "# To change the data type of column Estimated Annual Emission Reduction to integer for further analysis\n",
    "df['Estimated Annual Emission Reductions'] = df['Estimated Annual Emission Reductions'].str.replace(',', '', regex=True).astype('Int64')"
   ]
  },
  {
   "cell_type": "code",
   "execution_count": 5,
   "id": "7f133abc",
   "metadata": {},
   "outputs": [
    {
     "name": "stdout",
     "output_type": "stream",
     "text": [
      "Int64\n"
     ]
    }
   ],
   "source": [
    "# To confirm the data type of the column as integer64\n",
    "print(df['Estimated Annual Emission Reductions'].dtype)"
   ]
  },
  {
   "cell_type": "code",
   "execution_count": 6,
   "id": "34da3e02",
   "metadata": {},
   "outputs": [
    {
     "name": "stdout",
     "output_type": "stream",
     "text": [
      "0        40000\n",
      "1        47759\n",
      "2        60882\n",
      "3        44555\n",
      "4        58574\n",
      "         ...  \n",
      "1951    334000\n",
      "1952     16125\n",
      "1953    318793\n",
      "1954    115912\n",
      "1955     14832\n",
      "Name: Estimated Annual Emission Reductions, Length: 1956, dtype: Int64\n"
     ]
    }
   ],
   "source": [
    "print(df['Estimated Annual Emission Reductions'])"
   ]
  },
  {
   "cell_type": "code",
   "execution_count": null,
   "id": "91f41045",
   "metadata": {},
   "outputs": [],
   "source": [
    "# We know that there is no missing value in Project Type column.\n",
    "# Now, we want to look at the carbon projects by project type.\n",
    "unique_count = df['Project Type'].unique()"
   ]
  },
  {
   "cell_type": "code",
   "execution_count": 9,
   "id": "317999e1",
   "metadata": {},
   "outputs": [
    {
     "data": {
      "text/plain": [
       "array(['Energy distribution',\n",
       "       'Energy industries (renewable/non-renewable sources); Waste handling and disposal',\n",
       "       'Waste handling and disposal', 'Transport',\n",
       "       'Energy industries (renewable/non-renewable sources); Mining/mineral production',\n",
       "       'Agriculture Forestry and Other Land Use', 'Energy demand',\n",
       "       'Livestock, enteric fermentation, and manure management; Waste handling and disposal',\n",
       "       'Energy industries (renewable/non-renewable sources); Fugitive emissions from fuels (solid, oil and gas); Mining/mineral production',\n",
       "       'Energy industries (renewable/non-renewable sources); Livestock, enteric fermentation, and manure management; Waste handling and disposal',\n",
       "       'Energy demand; Waste handling and disposal',\n",
       "       'Energy industries (renewable/non-renewable sources); Transport',\n",
       "       'Livestock, enteric fermentation, and manure management',\n",
       "       'Energy industries (renewable/non-renewable sources)',\n",
       "       'Transport; Waste handling and disposal', 'Construction',\n",
       "       'Fugitive emissions from fuels (solid, oil and gas)',\n",
       "       'Energy industries (renewable/non-renewable sources); Fugitive emissions from fuels (solid, oil and gas)',\n",
       "       'Agriculture Forestry and Other Land Use; Livestock, enteric fermentation, and manure management',\n",
       "       'Energy industries (renewable/non-renewable sources); Livestock, enteric fermentation, and manure management',\n",
       "       'Energy industries (renewable/non-renewable sources); Livestock, enteric fermentation, and manure management; Transport',\n",
       "       'Construction; Manufacturing industries',\n",
       "       'Energy demand; Energy industries (renewable/non-renewable sources)',\n",
       "       'Chemical industry; Transport',\n",
       "       'Chemical industry; Energy demand; Energy industries (renewable/non-renewable sources)',\n",
       "       'Manufacturing industries', 'Chemical industry',\n",
       "       'Fugitive emissions from fuels (solid, oil and gas); Mining/mineral production',\n",
       "       'Fugitive emissions from production and consumption of halocarbons and sulphur hexafluoride',\n",
       "       'Energy distribution; Energy industries (renewable/non-renewable sources); Transport',\n",
       "       'Energy industries (renewable/non-renewable sources); Manufacturing industries',\n",
       "       'Construction; Energy industries (renewable/non-renewable sources)'],\n",
       "      dtype=object)"
      ]
     },
     "execution_count": 9,
     "metadata": {},
     "output_type": "execute_result"
    }
   ],
   "source": [
    "unique_count"
   ]
  },
  {
   "cell_type": "code",
   "execution_count": 13,
   "id": "9e6060ed",
   "metadata": {},
   "outputs": [
    {
     "data": {
      "text/plain": [
       "count      1956\n",
       "nunique      32\n",
       "Name: Project Type, dtype: int64"
      ]
     },
     "execution_count": 13,
     "metadata": {},
     "output_type": "execute_result"
    }
   ],
   "source": [
    "df['Project Type'].agg(['count', 'nunique'])"
   ]
  },
  {
   "cell_type": "code",
   "execution_count": 14,
   "id": "4b1ed6f3",
   "metadata": {},
   "outputs": [
    {
     "data": {
      "text/plain": [
       "<bound method IndexOpsMixin.nunique of 0                                     Energy distribution\n",
       "1       Energy industries (renewable/non-renewable sou...\n",
       "2       Energy industries (renewable/non-renewable sou...\n",
       "3       Energy industries (renewable/non-renewable sou...\n",
       "4                             Waste handling and disposal\n",
       "                              ...                        \n",
       "1951    Energy industries (renewable/non-renewable sou...\n",
       "1952    Energy industries (renewable/non-renewable sou...\n",
       "1953    Energy industries (renewable/non-renewable sou...\n",
       "1954    Energy industries (renewable/non-renewable sou...\n",
       "1955                             Manufacturing industries\n",
       "Name: Project Type, Length: 1956, dtype: object>"
      ]
     },
     "execution_count": 14,
     "metadata": {},
     "output_type": "execute_result"
    }
   ],
   "source": [
    "df['Project Type'].nunique"
   ]
  },
  {
   "cell_type": "markdown",
   "id": "5680dd6a",
   "metadata": {},
   "source": [
    "In this dataset, there are 32 unique project types.\n",
    "\n",
    "In the Project Type column, the project types registered in Verra are:\n",
    "\n",
    "- Energy Distribution\n",
    "- Energy industries (renewable/non-renewable): waste handlind and disposal\n",
    "- Wate Handling and disposal\n",
    "- Transport\n",
    "- "
   ]
  }
 ],
 "metadata": {
  "kernelspec": {
   "display_name": "ds_project_env",
   "language": "python",
   "name": "python3"
  },
  "language_info": {
   "codemirror_mode": {
    "name": "ipython",
    "version": 3
   },
   "file_extension": ".py",
   "mimetype": "text/x-python",
   "name": "python",
   "nbconvert_exporter": "python",
   "pygments_lexer": "ipython3",
   "version": "3.11.11"
  }
 },
 "nbformat": 4,
 "nbformat_minor": 5
}
