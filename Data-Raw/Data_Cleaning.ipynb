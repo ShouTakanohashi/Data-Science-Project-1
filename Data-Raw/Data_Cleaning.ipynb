{
 "cells": [
  {
   "cell_type": "markdown",
   "id": "c83da9a1",
   "metadata": {},
   "source": [
    "# Data Cleaning"
   ]
  },
  {
   "cell_type": "code",
   "execution_count": 1,
   "id": "34c441f8",
   "metadata": {},
   "outputs": [
    {
     "name": "stdout",
     "output_type": "stream",
     "text": [
      "<bound method NDFrame.head of         ID                                               Name  \\\n",
      "0     5302       SD Vista - Solar Water Pump Project in Kenya   \n",
      "1     5264                 Yunfu LFG Power Generation Project   \n",
      "2     5214  Pingjiang County Domestic Waste Harmless Landf...   \n",
      "3     5203  Luoding BCCY New Power CO., Ltd. MSW biogas to...   \n",
      "4     5186              Quanzhou Canhua PET Recycling Project   \n",
      "...    ...                                                ...   \n",
      "1951  2166  Chongqing Youyang County Youchou Hydropower St...   \n",
      "1952  2162  2 x 3.5 MW Ullunkal Hydro Power Project in Ker...   \n",
      "1953  2157                                    BAESA Project `   \n",
      "1954  2136                     cancelled duplicate of VCSR218   \n",
      "1955  2126  7.3 MW Bundled Wind Power Project by Oswal Cables   \n",
      "\n",
      "                                              Proponent  \\\n",
      "0                              Sunculture Kenya Limited   \n",
      "1                                   Multiple Proponents   \n",
      "2              Henan BCCY Environmental Energy CO.,LTD.   \n",
      "3              Henan BCCY Environmental Energy CO.,LTD.   \n",
      "4     Fujian Province Canhua Enviromental Material C...   \n",
      "...                                                 ...   \n",
      "1951                                Multiple Proponents   \n",
      "1952                                Multiple Proponents   \n",
      "1953                                                MER   \n",
      "1954                                                MER   \n",
      "1955                        Oswal Cables Private Limted   \n",
      "\n",
      "                                           Project Type AFOLU Activities  \\\n",
      "0                                   Energy distribution              NaN   \n",
      "1     Energy industries (renewable/non-renewable sou...              NaN   \n",
      "2     Energy industries (renewable/non-renewable sou...              NaN   \n",
      "3     Energy industries (renewable/non-renewable sou...              NaN   \n",
      "4                           Waste handling and disposal              NaN   \n",
      "...                                                 ...              ...   \n",
      "1951  Energy industries (renewable/non-renewable sou...              NaN   \n",
      "1952  Energy industries (renewable/non-renewable sou...              NaN   \n",
      "1953  Energy industries (renewable/non-renewable sou...              NaN   \n",
      "1954  Energy industries (renewable/non-renewable sou...              NaN   \n",
      "1955                           Manufacturing industries              NaN   \n",
      "\n",
      "     Methodology      Status Country/Area  \\\n",
      "0       AMS-I.B.   Withdrawn        Kenya   \n",
      "1        ACM0001  Registered        China   \n",
      "2        ACM0001  Registered        China   \n",
      "3        ACM0001  Registered        China   \n",
      "4        VMR0007  Registered        China   \n",
      "...          ...         ...          ...   \n",
      "1951     ACM0002   Withdrawn        China   \n",
      "1952    AMS-I.D.   Withdrawn        India   \n",
      "1953     ACM0002   Withdrawn       Brazil   \n",
      "1954     ACM0002   Withdrawn        China   \n",
      "1955     ACM0002   Withdrawn        India   \n",
      "\n",
      "     Estimated Annual Emission Reductions  Region Project Registration Date  \\\n",
      "0                                  40,000  Africa                       NaN   \n",
      "1                                  47,759     NaN                  4/7/2025   \n",
      "2                                  60,882     NaN                 3/16/2025   \n",
      "3                                  44,555    Asia                 3/16/2025   \n",
      "4                                  58,574    Asia                 2/25/2025   \n",
      "...                                   ...     ...                       ...   \n",
      "1951                              334,000     NaN                       NaN   \n",
      "1952                               16,125     NaN                       NaN   \n",
      "1953                              318,793     NaN                  3/6/2012   \n",
      "1954                              115,912     NaN                 9/25/2013   \n",
      "1955                               14,832     NaN                       NaN   \n",
      "\n",
      "     Crediting Period Start Date Crediting Period End Date  \n",
      "0                       8/1/2020                 7/31/2027  \n",
      "1                     12/17/2022                12/16/2032  \n",
      "2                      3/21/2023                 3/20/2033  \n",
      "3                     12/28/2022                12/27/2032  \n",
      "4                     11/15/2022                11/14/2032  \n",
      "...                          ...                       ...  \n",
      "1951                         NaN                       NaN  \n",
      "1952                         NaN                       NaN  \n",
      "1953                         NaN                       NaN  \n",
      "1954                         NaN                       NaN  \n",
      "1955                         NaN                       NaN  \n",
      "\n",
      "[1956 rows x 13 columns]>\n"
     ]
    }
   ],
   "source": [
    "import numpy as np\n",
    "import pandas as pd\n",
    "df = pd.read_csv(\"Carbon_Projects.csv\")\n",
    "print(df.head)"
   ]
  },
  {
   "cell_type": "code",
   "execution_count": 2,
   "id": "36ec3513",
   "metadata": {},
   "outputs": [
    {
     "name": "stdout",
     "output_type": "stream",
     "text": [
      "ID                                      False\n",
      "Name                                     True\n",
      "Proponent                               False\n",
      "Project Type                            False\n",
      "AFOLU Activities                         True\n",
      "Methodology                             False\n",
      "Status                                  False\n",
      "Country/Area                            False\n",
      "Estimated Annual Emission Reductions    False\n",
      "Region                                   True\n",
      "Project Registration Date                True\n",
      "Crediting Period Start Date              True\n",
      "Crediting Period End Date                True\n",
      "dtype: bool\n"
     ]
    }
   ],
   "source": [
    "# The data set dimension is 1956 x 13.\n",
    "# Now, we want to see if there are any missing values.\n",
    "print(df.isnull().any())"
   ]
  },
  {
   "cell_type": "code",
   "execution_count": 3,
   "id": "0d9fe198",
   "metadata": {},
   "outputs": [
    {
     "name": "stdout",
     "output_type": "stream",
     "text": [
      "<class 'pandas.core.frame.DataFrame'>\n",
      "RangeIndex: 1956 entries, 0 to 1955\n",
      "Data columns (total 13 columns):\n",
      " #   Column                                Non-Null Count  Dtype \n",
      "---  ------                                --------------  ----- \n",
      " 0   ID                                    1956 non-null   int64 \n",
      " 1   Name                                  1955 non-null   object\n",
      " 2   Proponent                             1956 non-null   object\n",
      " 3   Project Type                          1956 non-null   object\n",
      " 4   AFOLU Activities                      533 non-null    object\n",
      " 5   Methodology                           1956 non-null   object\n",
      " 6   Status                                1956 non-null   object\n",
      " 7   Country/Area                          1956 non-null   object\n",
      " 8   Estimated Annual Emission Reductions  1956 non-null   object\n",
      " 9   Region                                1875 non-null   object\n",
      " 10  Project Registration Date             1553 non-null   object\n",
      " 11  Crediting Period Start Date           1448 non-null   object\n",
      " 12  Crediting Period End Date             1448 non-null   object\n",
      "dtypes: int64(1), object(12)\n",
      "memory usage: 198.8+ KB\n",
      "None\n"
     ]
    }
   ],
   "source": [
    "# We want to check the data type of each column.\n",
    "print(df.info())"
   ]
  },
  {
   "cell_type": "code",
   "execution_count": 4,
   "id": "78453878",
   "metadata": {},
   "outputs": [],
   "source": [
    "# To change the data type of column Estimated Annual Emission Reduction to integer for further analysis\n",
    "df['Estimated Annual Emission Reductions'] = df['Estimated Annual Emission Reductions'].str.replace(',', '', regex=True).astype('Int64')"
   ]
  },
  {
   "cell_type": "code",
   "execution_count": 5,
   "id": "7f133abc",
   "metadata": {},
   "outputs": [
    {
     "name": "stdout",
     "output_type": "stream",
     "text": [
      "Int64\n"
     ]
    }
   ],
   "source": [
    "# To confirm the data type of the column as integer64\n",
    "print(df['Estimated Annual Emission Reductions'].dtype)"
   ]
  },
  {
   "cell_type": "code",
   "execution_count": 6,
   "id": "34da3e02",
   "metadata": {},
   "outputs": [
    {
     "name": "stdout",
     "output_type": "stream",
     "text": [
      "0        40000\n",
      "1        47759\n",
      "2        60882\n",
      "3        44555\n",
      "4        58574\n",
      "         ...  \n",
      "1951    334000\n",
      "1952     16125\n",
      "1953    318793\n",
      "1954    115912\n",
      "1955     14832\n",
      "Name: Estimated Annual Emission Reductions, Length: 1956, dtype: Int64\n"
     ]
    }
   ],
   "source": [
    "print(df['Estimated Annual Emission Reductions'])"
   ]
  },
  {
   "cell_type": "code",
   "execution_count": null,
   "id": "91f41045",
   "metadata": {},
   "outputs": [],
   "source": [
    "# We know that there is no missing value in Project Type column.\n",
    "# Now, we want to look at the carbon projects by project type.\n",
    "unique_count = df['Project Type'].unique()"
   ]
  },
  {
   "cell_type": "code",
   "execution_count": 9,
   "id": "317999e1",
   "metadata": {},
   "outputs": [
    {
     "data": {
      "text/plain": [
       "array(['Energy distribution',\n",
       "       'Energy industries (renewable/non-renewable sources); Waste handling and disposal',\n",
       "       'Waste handling and disposal', 'Transport',\n",
       "       'Energy industries (renewable/non-renewable sources); Mining/mineral production',\n",
       "       'Agriculture Forestry and Other Land Use', 'Energy demand',\n",
       "       'Livestock, enteric fermentation, and manure management; Waste handling and disposal',\n",
       "       'Energy industries (renewable/non-renewable sources); Fugitive emissions from fuels (solid, oil and gas); Mining/mineral production',\n",
       "       'Energy industries (renewable/non-renewable sources); Livestock, enteric fermentation, and manure management; Waste handling and disposal',\n",
       "       'Energy demand; Waste handling and disposal',\n",
       "       'Energy industries (renewable/non-renewable sources); Transport',\n",
       "       'Livestock, enteric fermentation, and manure management',\n",
       "       'Energy industries (renewable/non-renewable sources)',\n",
       "       'Transport; Waste handling and disposal', 'Construction',\n",
       "       'Fugitive emissions from fuels (solid, oil and gas)',\n",
       "       'Energy industries (renewable/non-renewable sources); Fugitive emissions from fuels (solid, oil and gas)',\n",
       "       'Agriculture Forestry and Other Land Use; Livestock, enteric fermentation, and manure management',\n",
       "       'Energy industries (renewable/non-renewable sources); Livestock, enteric fermentation, and manure management',\n",
       "       'Energy industries (renewable/non-renewable sources); Livestock, enteric fermentation, and manure management; Transport',\n",
       "       'Construction; Manufacturing industries',\n",
       "       'Energy demand; Energy industries (renewable/non-renewable sources)',\n",
       "       'Chemical industry; Transport',\n",
       "       'Chemical industry; Energy demand; Energy industries (renewable/non-renewable sources)',\n",
       "       'Manufacturing industries', 'Chemical industry',\n",
       "       'Fugitive emissions from fuels (solid, oil and gas); Mining/mineral production',\n",
       "       'Fugitive emissions from production and consumption of halocarbons and sulphur hexafluoride',\n",
       "       'Energy distribution; Energy industries (renewable/non-renewable sources); Transport',\n",
       "       'Energy industries (renewable/non-renewable sources); Manufacturing industries',\n",
       "       'Construction; Energy industries (renewable/non-renewable sources)'],\n",
       "      dtype=object)"
      ]
     },
     "execution_count": 9,
     "metadata": {},
     "output_type": "execute_result"
    }
   ],
   "source": [
    "unique_count"
   ]
  },
  {
   "cell_type": "code",
   "execution_count": 13,
   "id": "9e6060ed",
   "metadata": {},
   "outputs": [
    {
     "data": {
      "text/plain": [
       "count      1956\n",
       "nunique      32\n",
       "Name: Project Type, dtype: int64"
      ]
     },
     "execution_count": 13,
     "metadata": {},
     "output_type": "execute_result"
    }
   ],
   "source": [
    "df['Project Type'].agg(['count', 'nunique'])"
   ]
  },
  {
   "cell_type": "code",
   "execution_count": 15,
   "id": "4b1ed6f3",
   "metadata": {},
   "outputs": [
    {
     "data": {
      "text/plain": [
       "Project Type\n",
       "Energy industries (renewable/non-renewable sources)                                                                                         745\n",
       "Agriculture Forestry and Other Land Use                                                                                                     536\n",
       "Energy demand                                                                                                                               246\n",
       "Energy industries (renewable/non-renewable sources); Waste handling and disposal                                                            159\n",
       "Waste handling and disposal                                                                                                                  63\n",
       "Energy industries (renewable/non-renewable sources); Livestock, enteric fermentation, and manure management; Waste handling and disposal     59\n",
       "Livestock, enteric fermentation, and manure management; Waste handling and disposal                                                          36\n",
       "Energy industries (renewable/non-renewable sources); Mining/mineral production                                                               20\n",
       "Energy demand; Energy industries (renewable/non-renewable sources)                                                                           14\n",
       "Transport                                                                                                                                    13\n",
       "Manufacturing industries                                                                                                                      8\n",
       "Fugitive emissions from fuels (solid, oil and gas)                                                                                            7\n",
       "Livestock, enteric fermentation, and manure management                                                                                        6\n",
       "Construction                                                                                                                                  5\n",
       "Energy industries (renewable/non-renewable sources); Transport                                                                                5\n",
       "Transport; Waste handling and disposal                                                                                                        4\n",
       "Fugitive emissions from fuels (solid, oil and gas); Mining/mineral production                                                                 4\n",
       "Energy industries (renewable/non-renewable sources); Manufacturing industries                                                                 4\n",
       "Energy industries (renewable/non-renewable sources); Livestock, enteric fermentation, and manure management                                   4\n",
       "Fugitive emissions from production and consumption of halocarbons and sulphur hexafluoride                                                    3\n",
       "Construction; Manufacturing industries                                                                                                        3\n",
       "Chemical industry                                                                                                                             2\n",
       "Energy distribution                                                                                                                           1\n",
       "Energy demand; Waste handling and disposal                                                                                                    1\n",
       "Energy industries (renewable/non-renewable sources); Fugitive emissions from fuels (solid, oil and gas); Mining/mineral production            1\n",
       "Energy industries (renewable/non-renewable sources); Livestock, enteric fermentation, and manure management; Transport                        1\n",
       "Energy industries (renewable/non-renewable sources); Fugitive emissions from fuels (solid, oil and gas)                                       1\n",
       "Agriculture Forestry and Other Land Use; Livestock, enteric fermentation, and manure management                                               1\n",
       "Chemical industry; Transport                                                                                                                  1\n",
       "Chemical industry; Energy demand; Energy industries (renewable/non-renewable sources)                                                         1\n",
       "Energy distribution; Energy industries (renewable/non-renewable sources); Transport                                                           1\n",
       "Construction; Energy industries (renewable/non-renewable sources)                                                                             1\n",
       "Name: count, dtype: int64"
      ]
     },
     "execution_count": 15,
     "metadata": {},
     "output_type": "execute_result"
    }
   ],
   "source": [
    "df['Project Type'].value_counts()"
   ]
  },
  {
   "cell_type": "markdown",
   "id": "5680dd6a",
   "metadata": {},
   "source": [
    "In this dataset, there are 32 unique project types.\n",
    "\n",
    "In the Project Type column, the project types registered in Verra are:\n",
    "\n",
    "- Energy Distribution\n",
    "- Energy industries (renewable/non-renewable): waste handlind and disposal\n",
    "- Wate Handling and disposal\n",
    "- Transport\n",
    "- "
   ]
  },
  {
   "cell_type": "code",
   "execution_count": 20,
   "id": "44ff357a",
   "metadata": {},
   "outputs": [
    {
     "name": "stdout",
     "output_type": "stream",
     "text": [
      "['Withdrawn' 'Registered' 'Rejected by Administrator'\n",
      " 'Registration and verification approval request denied'\n",
      " 'Registration request denied']\n"
     ]
    }
   ],
   "source": [
    "print(df['Status'].unique())"
   ]
  },
  {
   "cell_type": "code",
   "execution_count": null,
   "id": "5c9d3c8f",
   "metadata": {},
   "outputs": [
    {
     "ename": "ValueError",
     "evalue": "cannot combine transform and aggregation operations",
     "output_type": "error",
     "traceback": [
      "\u001b[31m---------------------------------------------------------------------------\u001b[39m",
      "\u001b[31mTypeError\u001b[39m                                 Traceback (most recent call last)",
      "\u001b[36mFile \u001b[39m\u001b[32m~/miniconda3/envs/ds_project_env/lib/python3.11/site-packages/pandas/core/apply.py:402\u001b[39m, in \u001b[36mApply.wrap_results_list_like\u001b[39m\u001b[34m(self, keys, results)\u001b[39m\n\u001b[32m    401\u001b[39m \u001b[38;5;28;01mtry\u001b[39;00m:\n\u001b[32m--> \u001b[39m\u001b[32m402\u001b[39m     \u001b[38;5;28;01mreturn\u001b[39;00m \u001b[43mconcat\u001b[49m\u001b[43m(\u001b[49m\u001b[43mresults\u001b[49m\u001b[43m,\u001b[49m\u001b[43m \u001b[49m\u001b[43mkeys\u001b[49m\u001b[43m=\u001b[49m\u001b[43mkeys\u001b[49m\u001b[43m,\u001b[49m\u001b[43m \u001b[49m\u001b[43maxis\u001b[49m\u001b[43m=\u001b[49m\u001b[32;43m1\u001b[39;49m\u001b[43m,\u001b[49m\u001b[43m \u001b[49m\u001b[43msort\u001b[49m\u001b[43m=\u001b[49m\u001b[38;5;28;43;01mFalse\u001b[39;49;00m\u001b[43m)\u001b[49m\n\u001b[32m    403\u001b[39m \u001b[38;5;28;01mexcept\u001b[39;00m \u001b[38;5;167;01mTypeError\u001b[39;00m \u001b[38;5;28;01mas\u001b[39;00m err:\n\u001b[32m    404\u001b[39m     \u001b[38;5;66;03m# we are concatting non-NDFrame objects,\u001b[39;00m\n\u001b[32m    405\u001b[39m     \u001b[38;5;66;03m# e.g. a list of scalars\u001b[39;00m\n",
      "\u001b[36mFile \u001b[39m\u001b[32m~/miniconda3/envs/ds_project_env/lib/python3.11/site-packages/pandas/core/reshape/concat.py:382\u001b[39m, in \u001b[36mconcat\u001b[39m\u001b[34m(objs, axis, join, ignore_index, keys, levels, names, verify_integrity, sort, copy)\u001b[39m\n\u001b[32m    380\u001b[39m     copy = \u001b[38;5;28;01mFalse\u001b[39;00m\n\u001b[32m--> \u001b[39m\u001b[32m382\u001b[39m op = \u001b[43m_Concatenator\u001b[49m\u001b[43m(\u001b[49m\n\u001b[32m    383\u001b[39m \u001b[43m    \u001b[49m\u001b[43mobjs\u001b[49m\u001b[43m,\u001b[49m\n\u001b[32m    384\u001b[39m \u001b[43m    \u001b[49m\u001b[43maxis\u001b[49m\u001b[43m=\u001b[49m\u001b[43maxis\u001b[49m\u001b[43m,\u001b[49m\n\u001b[32m    385\u001b[39m \u001b[43m    \u001b[49m\u001b[43mignore_index\u001b[49m\u001b[43m=\u001b[49m\u001b[43mignore_index\u001b[49m\u001b[43m,\u001b[49m\n\u001b[32m    386\u001b[39m \u001b[43m    \u001b[49m\u001b[43mjoin\u001b[49m\u001b[43m=\u001b[49m\u001b[43mjoin\u001b[49m\u001b[43m,\u001b[49m\n\u001b[32m    387\u001b[39m \u001b[43m    \u001b[49m\u001b[43mkeys\u001b[49m\u001b[43m=\u001b[49m\u001b[43mkeys\u001b[49m\u001b[43m,\u001b[49m\n\u001b[32m    388\u001b[39m \u001b[43m    \u001b[49m\u001b[43mlevels\u001b[49m\u001b[43m=\u001b[49m\u001b[43mlevels\u001b[49m\u001b[43m,\u001b[49m\n\u001b[32m    389\u001b[39m \u001b[43m    \u001b[49m\u001b[43mnames\u001b[49m\u001b[43m=\u001b[49m\u001b[43mnames\u001b[49m\u001b[43m,\u001b[49m\n\u001b[32m    390\u001b[39m \u001b[43m    \u001b[49m\u001b[43mverify_integrity\u001b[49m\u001b[43m=\u001b[49m\u001b[43mverify_integrity\u001b[49m\u001b[43m,\u001b[49m\n\u001b[32m    391\u001b[39m \u001b[43m    \u001b[49m\u001b[43mcopy\u001b[49m\u001b[43m=\u001b[49m\u001b[43mcopy\u001b[49m\u001b[43m,\u001b[49m\n\u001b[32m    392\u001b[39m \u001b[43m    \u001b[49m\u001b[43msort\u001b[49m\u001b[43m=\u001b[49m\u001b[43msort\u001b[49m\u001b[43m,\u001b[49m\n\u001b[32m    393\u001b[39m \u001b[43m\u001b[49m\u001b[43m)\u001b[49m\n\u001b[32m    395\u001b[39m \u001b[38;5;28;01mreturn\u001b[39;00m op.get_result()\n",
      "\u001b[36mFile \u001b[39m\u001b[32m~/miniconda3/envs/ds_project_env/lib/python3.11/site-packages/pandas/core/reshape/concat.py:448\u001b[39m, in \u001b[36m_Concatenator.__init__\u001b[39m\u001b[34m(self, objs, axis, join, keys, levels, names, ignore_index, verify_integrity, copy, sort)\u001b[39m\n\u001b[32m    447\u001b[39m \u001b[38;5;66;03m# figure out what our result ndim is going to be\u001b[39;00m\n\u001b[32m--> \u001b[39m\u001b[32m448\u001b[39m ndims = \u001b[38;5;28;43mself\u001b[39;49m\u001b[43m.\u001b[49m\u001b[43m_get_ndims\u001b[49m\u001b[43m(\u001b[49m\u001b[43mobjs\u001b[49m\u001b[43m)\u001b[49m\n\u001b[32m    449\u001b[39m sample, objs = \u001b[38;5;28mself\u001b[39m._get_sample_object(objs, ndims, keys, names, levels)\n",
      "\u001b[36mFile \u001b[39m\u001b[32m~/miniconda3/envs/ds_project_env/lib/python3.11/site-packages/pandas/core/reshape/concat.py:489\u001b[39m, in \u001b[36m_Concatenator._get_ndims\u001b[39m\u001b[34m(self, objs)\u001b[39m\n\u001b[32m    485\u001b[39m     msg = (\n\u001b[32m    486\u001b[39m         \u001b[33mf\u001b[39m\u001b[33m\"\u001b[39m\u001b[33mcannot concatenate object of type \u001b[39m\u001b[33m'\u001b[39m\u001b[38;5;132;01m{\u001b[39;00m\u001b[38;5;28mtype\u001b[39m(obj)\u001b[38;5;132;01m}\u001b[39;00m\u001b[33m'\u001b[39m\u001b[33m; \u001b[39m\u001b[33m\"\u001b[39m\n\u001b[32m    487\u001b[39m         \u001b[33m\"\u001b[39m\u001b[33monly Series and DataFrame objs are valid\u001b[39m\u001b[33m\"\u001b[39m\n\u001b[32m    488\u001b[39m     )\n\u001b[32m--> \u001b[39m\u001b[32m489\u001b[39m     \u001b[38;5;28;01mraise\u001b[39;00m \u001b[38;5;167;01mTypeError\u001b[39;00m(msg)\n\u001b[32m    491\u001b[39m ndims.add(obj.ndim)\n",
      "\u001b[31mTypeError\u001b[39m: cannot concatenate object of type '<class 'numpy.int64'>'; only Series and DataFrame objs are valid",
      "\nThe above exception was the direct cause of the following exception:\n",
      "\u001b[31mValueError\u001b[39m                                Traceback (most recent call last)",
      "\u001b[36mCell\u001b[39m\u001b[36m \u001b[39m\u001b[32mIn[28]\u001b[39m\u001b[32m, line 1\u001b[39m\n\u001b[32m----> \u001b[39m\u001b[32m1\u001b[39m \u001b[43mdf\u001b[49m\u001b[43m[\u001b[49m\u001b[33;43m'\u001b[39;49m\u001b[33;43mStatus\u001b[39;49m\u001b[33;43m'\u001b[39;49m\u001b[43m]\u001b[49m\u001b[43m.\u001b[49m\u001b[43magg\u001b[49m\u001b[43m(\u001b[49m\u001b[43m[\u001b[49m\u001b[33;43m'\u001b[39;49m\u001b[33;43mcount\u001b[39;49m\u001b[33;43m'\u001b[39;49m\u001b[43m,\u001b[49m\u001b[43m \u001b[49m\u001b[33;43m'\u001b[39;49m\u001b[33;43munique\u001b[39;49m\u001b[33;43m'\u001b[39;49m\u001b[43m,\u001b[49m\u001b[43m \u001b[49m\u001b[33;43m'\u001b[39;49m\u001b[33;43mnunique\u001b[39;49m\u001b[33;43m'\u001b[39;49m\u001b[43m,\u001b[49m\u001b[43m \u001b[49m\u001b[33;43m'\u001b[39;49m\u001b[33;43mvalue_counts\u001b[39;49m\u001b[33;43m'\u001b[39;49m\u001b[43m]\u001b[49m\u001b[43m)\u001b[49m\n",
      "\u001b[36mFile \u001b[39m\u001b[32m~/miniconda3/envs/ds_project_env/lib/python3.11/site-packages/pandas/core/series.py:4766\u001b[39m, in \u001b[36mSeries.aggregate\u001b[39m\u001b[34m(self, func, axis, *args, **kwargs)\u001b[39m\n\u001b[32m   4763\u001b[39m     func = \u001b[38;5;28mdict\u001b[39m(kwargs.items())\n\u001b[32m   4765\u001b[39m op = SeriesApply(\u001b[38;5;28mself\u001b[39m, func, args=args, kwargs=kwargs)\n\u001b[32m-> \u001b[39m\u001b[32m4766\u001b[39m result = \u001b[43mop\u001b[49m\u001b[43m.\u001b[49m\u001b[43magg\u001b[49m\u001b[43m(\u001b[49m\u001b[43m)\u001b[49m\n\u001b[32m   4767\u001b[39m \u001b[38;5;28;01mreturn\u001b[39;00m result\n",
      "\u001b[36mFile \u001b[39m\u001b[32m~/miniconda3/envs/ds_project_env/lib/python3.11/site-packages/pandas/core/apply.py:1430\u001b[39m, in \u001b[36mSeriesApply.agg\u001b[39m\u001b[34m(self)\u001b[39m\n\u001b[32m   1429\u001b[39m \u001b[38;5;28;01mdef\u001b[39;00m\u001b[38;5;250m \u001b[39m\u001b[34magg\u001b[39m(\u001b[38;5;28mself\u001b[39m):\n\u001b[32m-> \u001b[39m\u001b[32m1430\u001b[39m     result = \u001b[38;5;28;43msuper\u001b[39;49m\u001b[43m(\u001b[49m\u001b[43m)\u001b[49m\u001b[43m.\u001b[49m\u001b[43magg\u001b[49m\u001b[43m(\u001b[49m\u001b[43m)\u001b[49m\n\u001b[32m   1431\u001b[39m     \u001b[38;5;28;01mif\u001b[39;00m result \u001b[38;5;129;01mis\u001b[39;00m \u001b[38;5;28;01mNone\u001b[39;00m:\n\u001b[32m   1432\u001b[39m         obj = \u001b[38;5;28mself\u001b[39m.obj\n",
      "\u001b[36mFile \u001b[39m\u001b[32m~/miniconda3/envs/ds_project_env/lib/python3.11/site-packages/pandas/core/apply.py:193\u001b[39m, in \u001b[36mApply.agg\u001b[39m\u001b[34m(self)\u001b[39m\n\u001b[32m    190\u001b[39m     \u001b[38;5;28;01mreturn\u001b[39;00m \u001b[38;5;28mself\u001b[39m.agg_dict_like()\n\u001b[32m    191\u001b[39m \u001b[38;5;28;01melif\u001b[39;00m is_list_like(func):\n\u001b[32m    192\u001b[39m     \u001b[38;5;66;03m# we require a list, but not a 'str'\u001b[39;00m\n\u001b[32m--> \u001b[39m\u001b[32m193\u001b[39m     \u001b[38;5;28;01mreturn\u001b[39;00m \u001b[38;5;28;43mself\u001b[39;49m\u001b[43m.\u001b[49m\u001b[43magg_list_like\u001b[49m\u001b[43m(\u001b[49m\u001b[43m)\u001b[49m\n\u001b[32m    195\u001b[39m \u001b[38;5;28;01mif\u001b[39;00m \u001b[38;5;28mcallable\u001b[39m(func):\n\u001b[32m    196\u001b[39m     f = com.get_cython_func(func)\n",
      "\u001b[36mFile \u001b[39m\u001b[32m~/miniconda3/envs/ds_project_env/lib/python3.11/site-packages/pandas/core/apply.py:326\u001b[39m, in \u001b[36mApply.agg_list_like\u001b[39m\u001b[34m(self)\u001b[39m\n\u001b[32m    318\u001b[39m \u001b[38;5;28;01mdef\u001b[39;00m\u001b[38;5;250m \u001b[39m\u001b[34magg_list_like\u001b[39m(\u001b[38;5;28mself\u001b[39m) -> DataFrame | Series:\n\u001b[32m    319\u001b[39m \u001b[38;5;250m    \u001b[39m\u001b[33;03m\"\"\"\u001b[39;00m\n\u001b[32m    320\u001b[39m \u001b[33;03m    Compute aggregation in the case of a list-like argument.\u001b[39;00m\n\u001b[32m    321\u001b[39m \n\u001b[32m   (...)\u001b[39m\u001b[32m    324\u001b[39m \u001b[33;03m    Result of aggregation.\u001b[39;00m\n\u001b[32m    325\u001b[39m \u001b[33;03m    \"\"\"\u001b[39;00m\n\u001b[32m--> \u001b[39m\u001b[32m326\u001b[39m     \u001b[38;5;28;01mreturn\u001b[39;00m \u001b[38;5;28;43mself\u001b[39;49m\u001b[43m.\u001b[49m\u001b[43magg_or_apply_list_like\u001b[49m\u001b[43m(\u001b[49m\u001b[43mop_name\u001b[49m\u001b[43m=\u001b[49m\u001b[33;43m\"\u001b[39;49m\u001b[33;43magg\u001b[39;49m\u001b[33;43m\"\u001b[39;49m\u001b[43m)\u001b[49m\n",
      "\u001b[36mFile \u001b[39m\u001b[32m~/miniconda3/envs/ds_project_env/lib/python3.11/site-packages/pandas/core/apply.py:745\u001b[39m, in \u001b[36mNDFrameApply.agg_or_apply_list_like\u001b[39m\u001b[34m(self, op_name)\u001b[39m\n\u001b[32m    742\u001b[39m     \u001b[38;5;28;01mraise\u001b[39;00m \u001b[38;5;167;01mNotImplementedError\u001b[39;00m(\u001b[33m\"\u001b[39m\u001b[33maxis other than 0 is not supported\u001b[39m\u001b[33m\"\u001b[39m)\n\u001b[32m    744\u001b[39m keys, results = \u001b[38;5;28mself\u001b[39m.compute_list_like(op_name, obj, kwargs)\n\u001b[32m--> \u001b[39m\u001b[32m745\u001b[39m result = \u001b[38;5;28;43mself\u001b[39;49m\u001b[43m.\u001b[49m\u001b[43mwrap_results_list_like\u001b[49m\u001b[43m(\u001b[49m\u001b[43mkeys\u001b[49m\u001b[43m,\u001b[49m\u001b[43m \u001b[49m\u001b[43mresults\u001b[49m\u001b[43m)\u001b[49m\n\u001b[32m    746\u001b[39m \u001b[38;5;28;01mreturn\u001b[39;00m result\n",
      "\u001b[36mFile \u001b[39m\u001b[32m~/miniconda3/envs/ds_project_env/lib/python3.11/site-packages/pandas/core/apply.py:410\u001b[39m, in \u001b[36mApply.wrap_results_list_like\u001b[39m\u001b[34m(self, keys, results)\u001b[39m\n\u001b[32m    408\u001b[39m result = Series(results, index=keys, name=obj.name)\n\u001b[32m    409\u001b[39m \u001b[38;5;28;01mif\u001b[39;00m is_nested_object(result):\n\u001b[32m--> \u001b[39m\u001b[32m410\u001b[39m     \u001b[38;5;28;01mraise\u001b[39;00m \u001b[38;5;167;01mValueError\u001b[39;00m(\n\u001b[32m    411\u001b[39m         \u001b[33m\"\u001b[39m\u001b[33mcannot combine transform and aggregation operations\u001b[39m\u001b[33m\"\u001b[39m\n\u001b[32m    412\u001b[39m     ) \u001b[38;5;28;01mfrom\u001b[39;00m\u001b[38;5;250m \u001b[39m\u001b[34;01merr\u001b[39;00m\n\u001b[32m    413\u001b[39m \u001b[38;5;28;01mreturn\u001b[39;00m result\n",
      "\u001b[31mValueError\u001b[39m: cannot combine transform and aggregation operations"
     ]
    }
   ],
   "source": [
    "df['Status'].agg(['count', 'unique', 'nunique'])"
   ]
  },
  {
   "cell_type": "code",
   "execution_count": 29,
   "id": "5b10a8b0",
   "metadata": {},
   "outputs": [
    {
     "data": {
      "text/plain": [
       "Status\n",
       "Registered                                               1461\n",
       "Withdrawn                                                 240\n",
       "Rejected by Administrator                                 161\n",
       "Registration and verification approval request denied      79\n",
       "Registration request denied                                15\n",
       "Name: count, dtype: int64"
      ]
     },
     "execution_count": 29,
     "metadata": {},
     "output_type": "execute_result"
    }
   ],
   "source": [
    "df['Status'].value_counts()"
   ]
  },
  {
   "cell_type": "markdown",
   "id": "05a0ff3d",
   "metadata": {},
   "source": [
    "As I perform value_count function from pandas library on `Status` column, the dataset has:\n",
    "- Registered: 1461\n",
    "- Withdrawn: 240\n",
    "- Rejected by Administrator: 161\n",
    "- Registration and verification approval request denied: 79\n",
    "Registration request denied: 15"
   ]
  },
  {
   "cell_type": "code",
   "execution_count": 31,
   "id": "d529fb2e",
   "metadata": {},
   "outputs": [
    {
     "name": "stdout",
     "output_type": "stream",
     "text": [
      "0.7469325153374233\n"
     ]
    }
   ],
   "source": [
    "Approval_percentage = print(1461/1956)"
   ]
  },
  {
   "cell_type": "code",
   "execution_count": 32,
   "id": "43a317f1",
   "metadata": {},
   "outputs": [
    {
     "ename": "NameError",
     "evalue": "name 'Registered' is not defined",
     "output_type": "error",
     "traceback": [
      "\u001b[31m---------------------------------------------------------------------------\u001b[39m",
      "\u001b[31mNameError\u001b[39m                                 Traceback (most recent call last)",
      "\u001b[36mCell\u001b[39m\u001b[36m \u001b[39m\u001b[32mIn[32]\u001b[39m\u001b[32m, line 1\u001b[39m\n\u001b[32m----> \u001b[39m\u001b[32m1\u001b[39m df[\u001b[33m'\u001b[39m\u001b[33mStatus\u001b[39m\u001b[33m'\u001b[39m].value_counts(\u001b[43mRegistered\u001b[49m)\n",
      "\u001b[31mNameError\u001b[39m: name 'Registered' is not defined"
     ]
    }
   ],
   "source": [
    "df['Status'].value_counts(Registered)"
   ]
  },
  {
   "cell_type": "code",
   "execution_count": 34,
   "id": "de8a601f",
   "metadata": {},
   "outputs": [
    {
     "data": {
      "text/plain": [
       "np.int64(0)"
      ]
     },
     "execution_count": 34,
     "metadata": {},
     "output_type": "execute_result"
    }
   ],
   "source": [
    "(df['Status'] == 'Approved').sum()"
   ]
  },
  {
   "cell_type": "code",
   "execution_count": 43,
   "id": "95af4036",
   "metadata": {},
   "outputs": [],
   "source": [
    "def status_percentage(df, Status):\n",
    "    total = len(df)\n",
    "    count = (df['Status'] == 'Registered').sum()\n",
    "    percentage = (count / total) * 100\n",
    "    return round(percentage, 4)"
   ]
  },
  {
   "cell_type": "code",
   "execution_count": 45,
   "id": "ad606137",
   "metadata": {},
   "outputs": [
    {
     "name": "stdout",
     "output_type": "stream",
     "text": [
      "74.6933\n"
     ]
    }
   ],
   "source": [
    "print(status_percentage(df, 'Registered'))"
   ]
  },
  {
   "cell_type": "code",
   "execution_count": null,
   "id": "485670ba",
   "metadata": {},
   "outputs": [],
   "source": [
    "# We want to filter data by: whether the project is registered or not\n",
    "df_registered = df[df['Status'] == 'Registered']\n",
    "df_not_registered = df[df['Status'] != 'Registered']"
   ]
  },
  {
   "cell_type": "code",
   "execution_count": null,
   "id": "9edc371a",
   "metadata": {},
   "outputs": [
    {
     "name": "stdout",
     "output_type": "stream",
     "text": [
      "Registered projects: 1461\n",
      "Not Registered projects: 495\n"
     ]
    }
   ],
   "source": [
    "# To confirm the shape of the \n",
    "print(f\"Registered projects: {df_registered.shape[0]}\")\n",
    "print(f\"Not Registered projects: {df_not_registered.shape[0]}\")"
   ]
  },
  {
   "cell_type": "code",
   "execution_count": null,
   "id": "d1beb756",
   "metadata": {},
   "outputs": [],
   "source": [
    "# To convert filtered datasets into separate CSV files\n",
    "df_registered.to_csv(\"Registered_Projects.csv\", index=False)\n",
    "df_not_registered.to_csv(\"Not_Registered_Projects.csv\", index=False)"
   ]
  }
 ],
 "metadata": {
  "kernelspec": {
   "display_name": "ds_project_env",
   "language": "python",
   "name": "python3"
  },
  "language_info": {
   "codemirror_mode": {
    "name": "ipython",
    "version": 3
   },
   "file_extension": ".py",
   "mimetype": "text/x-python",
   "name": "python",
   "nbconvert_exporter": "python",
   "pygments_lexer": "ipython3",
   "version": "3.11.11"
  }
 },
 "nbformat": 4,
 "nbformat_minor": 5
}
